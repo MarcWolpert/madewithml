{
 "cells": [
  {
   "cell_type": "markdown",
   "metadata": {},
   "source": [
    "# Attention"
   ]
  },
  {
   "cell_type": "code",
   "execution_count": 162,
   "metadata": {},
   "outputs": [],
   "source": [
    "import numpy as np\n",
    "import pandas as pd\n",
    "import random\n",
    "import torch\n",
    "import torch.nn as nn\n",
    "import torch.nn.functional as F\n",
    "import os"
   ]
  },
  {
   "cell_type": "code",
   "execution_count": 163,
   "metadata": {},
   "outputs": [],
   "source": [
    "SEED=1337"
   ]
  },
  {
   "cell_type": "code",
   "execution_count": 164,
   "metadata": {},
   "outputs": [],
   "source": [
    "#we'll define a set of seeds and make it reproducible\n",
    "def set_seeds(seed=1337):\n",
    "    \"\"\"Set seeds for reproducibility.\"\"\"\n",
    "    np.random.seed(seed)\n",
    "    random.seed(seed)\n",
    "    torch.manual_seed(seed)\n",
    "    if torch.cuda.is_available():\n",
    "        torch.cuda.manual_seed(seed)\n",
    "        eval(\"setattr(torch.backends.cudnn, 'deterministic', True)\")\n",
    "        eval(\"setattr(torch.backends.cudnn, 'benchmark', False)\")\n",
    "    if torch.backends.mps.is_available():\n",
    "        torch.mps.manual_seed(seed)\n",
    "    os.environ[\"PYTHONHASHSEED\"] = str(seed)   \n",
    "set_seeds(SEED)"
   ]
  },
  {
   "cell_type": "code",
   "execution_count": 219,
   "metadata": {},
   "outputs": [
    {
     "name": "stdout",
     "output_type": "stream",
     "text": [
      "Using device: cpu\n"
     ]
    }
   ],
   "source": [
    "#set device\n",
    "def set_device():\n",
    "  if torch.backends.mps.is_available():\n",
    "    device=torch.device(\"mps\")\n",
    "  elif torch.cuda.is_available():\n",
    "    device=torch.device(\"cuda\")\n",
    "  else:\n",
    "    device=torch.device(\"cpu\")\n",
    "  #for now we're just going to be on cpu because torch 2.0.0 has problems with mps backend\n",
    "  return torch.device('cpu')\n",
    "  return device\n",
    "device=set_device()\n",
    "print(f\"Using device: {device}\")\n",
    "torch.set_default_device(device)"
   ]
  },
  {
   "cell_type": "markdown",
   "metadata": {},
   "source": [
    "#### Load data"
   ]
  },
  {
   "cell_type": "code",
   "execution_count": 166,
   "metadata": {},
   "outputs": [],
   "source": [
    "# import subprocess\n",
    "# subprocess.Popen('python3.10 pip install kaggle', shell=True)\n",
    "# subprocess.Popen('kaggle datasets download -d amananandrai ag-news-classification-dataset unzip ag-news-classification-dataset.zip', shell=True)\n"
   ]
  },
  {
   "cell_type": "code",
   "execution_count": 167,
   "metadata": {},
   "outputs": [
    {
     "data": {
      "application/vnd.microsoft.datawrangler.viewer.v0+json": {
       "columns": [
        {
         "name": "index",
         "rawType": "int64",
         "type": "integer"
        },
        {
         "name": "Class Index",
         "rawType": "int64",
         "type": "integer"
        },
        {
         "name": "Title",
         "rawType": "object",
         "type": "string"
        },
        {
         "name": "Description",
         "rawType": "object",
         "type": "string"
        }
       ],
       "conversionMethod": "pd.DataFrame",
       "ref": "d429248b-5f6f-4a5b-8c0a-f34dac878f70",
       "rows": [
        [
         "0",
         "3",
         "NAB turnaround to take time",
         "National Australia Bank, despite reporting a healthy operating profit for its wealth management business, has ended an otherwise tough year on a bad note after today reporting a significant fall in cash earnings for 2004."
        ],
        [
         "1",
         "4",
         "Microsoft Files More Spam Suits",
         "New lawsuits include one against a Web hosting company that called itself \"bulletproof.\""
        ],
        [
         "2",
         "2",
         "Canadian Allenby, NCAA champion Moore advance at US Amateur golf event",
         "MAMARONECK, NY (CP) - NCAA champion Ryan Moore and Canadian James Allenby were among 32 golfers who advanced with match-play victories Wednesday at the US Amateur. "
        ],
        [
         "3",
         "3",
         "Stocks Seen Higher Before Jobs Data",
         " NEW YORK (Reuters) - U.S. stock futures surged Friday  morning on the back of Intel Corp.'s raised quarterly sales  forecast and lower oil prices, but strategists said the  market's early direction would be dictated by the monthly  employment data due out before the start of trading."
        ],
        [
         "4",
         "4",
         "Massive Merger of Galaxies is the Most Powerful on Record",
         "Scientists have now officially witnessed the perfect cosmic storm. Thanks to the European Space Agency #39;s XMM-Newton observatory, they watched a nearby head-on collision between two galaxy clusters."
        ]
       ],
       "shape": {
        "columns": 3,
        "rows": 5
       }
      },
      "text/html": [
       "<div>\n",
       "<style scoped>\n",
       "    .dataframe tbody tr th:only-of-type {\n",
       "        vertical-align: middle;\n",
       "    }\n",
       "\n",
       "    .dataframe tbody tr th {\n",
       "        vertical-align: top;\n",
       "    }\n",
       "\n",
       "    .dataframe thead th {\n",
       "        text-align: right;\n",
       "    }\n",
       "</style>\n",
       "<table border=\"1\" class=\"dataframe\">\n",
       "  <thead>\n",
       "    <tr style=\"text-align: right;\">\n",
       "      <th></th>\n",
       "      <th>Class Index</th>\n",
       "      <th>Title</th>\n",
       "      <th>Description</th>\n",
       "    </tr>\n",
       "  </thead>\n",
       "  <tbody>\n",
       "    <tr>\n",
       "      <th>0</th>\n",
       "      <td>3</td>\n",
       "      <td>NAB turnaround to take time</td>\n",
       "      <td>National Australia Bank, despite reporting a h...</td>\n",
       "    </tr>\n",
       "    <tr>\n",
       "      <th>1</th>\n",
       "      <td>4</td>\n",
       "      <td>Microsoft Files More Spam Suits</td>\n",
       "      <td>New lawsuits include one against a Web hosting...</td>\n",
       "    </tr>\n",
       "    <tr>\n",
       "      <th>2</th>\n",
       "      <td>2</td>\n",
       "      <td>Canadian Allenby, NCAA champion Moore advance ...</td>\n",
       "      <td>MAMARONECK, NY (CP) - NCAA champion Ryan Moore...</td>\n",
       "    </tr>\n",
       "    <tr>\n",
       "      <th>3</th>\n",
       "      <td>3</td>\n",
       "      <td>Stocks Seen Higher Before Jobs Data</td>\n",
       "      <td>NEW YORK (Reuters) - U.S. stock futures surge...</td>\n",
       "    </tr>\n",
       "    <tr>\n",
       "      <th>4</th>\n",
       "      <td>4</td>\n",
       "      <td>Massive Merger of Galaxies is the Most Powerfu...</td>\n",
       "      <td>Scientists have now officially witnessed the p...</td>\n",
       "    </tr>\n",
       "  </tbody>\n",
       "</table>\n",
       "</div>"
      ],
      "text/plain": [
       "   Class Index                                              Title   \n",
       "0            3                        NAB turnaround to take time  \\\n",
       "1            4                    Microsoft Files More Spam Suits   \n",
       "2            2  Canadian Allenby, NCAA champion Moore advance ...   \n",
       "3            3                Stocks Seen Higher Before Jobs Data   \n",
       "4            4  Massive Merger of Galaxies is the Most Powerfu...   \n",
       "\n",
       "                                         Description  \n",
       "0  National Australia Bank, despite reporting a h...  \n",
       "1  New lawsuits include one against a Web hosting...  \n",
       "2  MAMARONECK, NY (CP) - NCAA champion Ryan Moore...  \n",
       "3   NEW YORK (Reuters) - U.S. stock futures surge...  \n",
       "4  Scientists have now officially witnessed the p...  "
      ]
     },
     "execution_count": 167,
     "metadata": {},
     "output_type": "execute_result"
    }
   ],
   "source": [
    "#Load data\n",
    "#loation\n",
    "\n",
    "df=pd.concat([pd.read_csv('train.csv', header=0), pd.read_csv('test.csv', header=0)])\n",
    "df = df.sample(frac=1).reset_index(drop=True) # shuffle\n",
    "df.head()"
   ]
  },
  {
   "cell_type": "code",
   "execution_count": 168,
   "metadata": {},
   "outputs": [
    {
     "data": {
      "text/plain": [
       "array([3, 4, 2, 1])"
      ]
     },
     "execution_count": 168,
     "metadata": {},
     "output_type": "execute_result"
    }
   ],
   "source": [
    "df['Class Index'].unique()"
   ]
  },
  {
   "cell_type": "markdown",
   "metadata": {},
   "source": [
    "#### Cleaning"
   ]
  },
  {
   "cell_type": "code",
   "execution_count": 169,
   "metadata": {},
   "outputs": [],
   "source": [
    "import nltk \n",
    "# to get rid of common words that dont hold much meaning\n",
    "from nltk.corpus import stopwords\n",
    "# to get rid of words that have common suffixes\n",
    "from nltk.stem import PorterStemmer\n",
    "import re"
   ]
  },
  {
   "cell_type": "code",
   "execution_count": 170,
   "metadata": {},
   "outputs": [
    {
     "name": "stdout",
     "output_type": "stream",
     "text": [
      "['a', 'about', 'above', 'after', 'again']\n"
     ]
    },
    {
     "name": "stderr",
     "output_type": "stream",
     "text": [
      "[nltk_data] Downloading package stopwords to\n",
      "[nltk_data]     /Users/marcwolpert/nltk_data...\n",
      "[nltk_data]   Package stopwords is already up-to-date!\n"
     ]
    }
   ],
   "source": [
    "nltk.download('stopwords')\n",
    "STOPWORDS=stopwords.words('english')\n",
    "print(STOPWORDS[:5])\n",
    "PORTER=PorterStemmer()"
   ]
  },
  {
   "cell_type": "code",
   "execution_count": 171,
   "metadata": {},
   "outputs": [
    {
     "name": "stdout",
     "output_type": "stream",
     "text": [
      "great week nyse\n"
     ]
    }
   ],
   "source": [
    "def preprocess(text,stopwords=STOPWORDS):\n",
    "  #lower\n",
    "  text=text.lower()\n",
    "  #remove punctuation\n",
    "  pattern = re.compile(r\"\\b(\" + r\"|\".join(stopwords) + r\")\\b\\s*\")\n",
    "  text=pattern.sub('',text)\n",
    "\n",
    "  #remove words in parentheses\n",
    "  text = re.sub(r\"\\([^)]*\\)\", \"\", text)\n",
    "\n",
    "  #spacing and filters\n",
    "  text = re.sub(r\"([-;;.,!?<=>])\", r\" \\1 \", text)\n",
    "  text = re.sub(\"[^A-Za-z0-9]+\", \" \", text) # remove non alphanumeric chars\n",
    "  text = re.sub(\" +\", \" \", text)  # remove multiple spaces\n",
    "  text = text.strip()\n",
    "\n",
    "  return text\n",
    "\n",
    "text='Great week for the NYSE'\n",
    "print(preprocess(text))"
   ]
  },
  {
   "cell_type": "code",
   "execution_count": 172,
   "metadata": {},
   "outputs": [
    {
     "name": "stdout",
     "output_type": "stream",
     "text": [
      "NAB turnaround to take time\n",
      "\n",
      "nab turnaround take time\n"
     ]
    }
   ],
   "source": [
    "#apply to all text\n",
    "preprocessed_df=df.copy()\n",
    "preprocessed_df['Title']=preprocessed_df['Title'].apply(preprocess)\n",
    "print(f\"{df['Title'].values[0]}\\n\\n{preprocessed_df['Title'].values[0]}\")\n",
    "#tokenize"
   ]
  },
  {
   "cell_type": "markdown",
   "metadata": {},
   "source": [
    "#### Note:\n",
    "- Applying these preprocessing steps (like standardization) has to be separate from the training/test data. This is because we cannot apply any knowledge gained from the test set accidentally (data leak) during preprocessing/training. However for global preprocessing steps like the function above, we aren't learning anything from the data itself, and so we can apply it to all the data."
   ]
  },
  {
   "cell_type": "markdown",
   "metadata": {},
   "source": [
    "### Split the data"
   ]
  },
  {
   "cell_type": "code",
   "execution_count": 173,
   "metadata": {},
   "outputs": [],
   "source": [
    "import collections\n",
    "from sklearn.model_selection import train_test_split\n",
    "\n",
    "TRAIN_SIZE=0.7\n",
    "TEST_SIZE=0.15\n",
    "VAL_SIZE=0.15\n",
    "\n",
    "def train_val_test_split(X,y,train_size):\n",
    "  #split the data\n",
    "  X_train,X_, y_train,y_=train_test_split(X,y,train_size=TRAIN_SIZE,stratify=y)\n",
    "  X_val,X_test,y_val,y_test=train_test_split(X_,y_,test_size=0.5,stratify=y_)\n",
    "  return X_train,X_val,X_test,y_train,y_val,y_test\n",
    "\n",
    "X=preprocessed_df['Title']\n",
    "y=preprocessed_df['Class Index']\n",
    "X_train,X_val,X_test,y_train,y_val,y_test=train_val_test_split(X,y,TRAIN_SIZE)"
   ]
  },
  {
   "cell_type": "code",
   "execution_count": 174,
   "metadata": {},
   "outputs": [
    {
     "name": "stdout",
     "output_type": "stream",
     "text": [
      "X_train: (89320,), y_train: (89320,)\n",
      "X_val: (19140,), y_val: (19140,)\n",
      "X_test: (19140,), y_test: (19140,)\n",
      "Sample point: nab turnaround take time → 3\n"
     ]
    }
   ],
   "source": [
    "print (f\"X_train: {X_train.shape}, y_train: {y_train.shape}\")\n",
    "print (f\"X_val: {X_val.shape}, y_val: {y_val.shape}\")\n",
    "print (f\"X_test: {X_test.shape}, y_test: {y_test.shape}\")\n",
    "print (f\"Sample point: {X_train[0]} → {y_train[0]}\")"
   ]
  },
  {
   "cell_type": "markdown",
   "metadata": {},
   "source": [
    "### Turning our text labels into unique indices"
   ]
  },
  {
   "cell_type": "code",
   "execution_count": 175,
   "metadata": {},
   "outputs": [],
   "source": [
    "import itertools\n",
    "import json"
   ]
  },
  {
   "cell_type": "markdown",
   "metadata": {},
   "source": [
    "Note: the @classmethod is a decorator that bind to the class and not the instance."
   ]
  },
  {
   "cell_type": "code",
   "execution_count": 176,
   "metadata": {},
   "outputs": [],
   "source": [
    "class LabelEncoder(object):\n",
    "    \"\"\"Label encoder for tag labels.\"\"\"\n",
    "    def __init__(self, class_to_index={}):\n",
    "        self.class_to_index = class_to_index or {}  # mutable defaults ;)\n",
    "        self.index_to_class = {v: k for k, v in self.class_to_index.items()}\n",
    "        self.classes = list(self.class_to_index.keys())\n",
    "\n",
    "    def __len__(self):\n",
    "        return len(self.class_to_index)\n",
    "\n",
    "    def __str__(self):\n",
    "        return f\"<LabelEncoder(num_classes={len(self)})>\"\n",
    "\n",
    "    def fit(self, y):\n",
    "        classes = np.unique(y)\n",
    "        for i, class_ in enumerate(classes):\n",
    "            self.class_to_index[class_] = i\n",
    "        self.index_to_class = {v: k for k, v in self.class_to_index.items()}\n",
    "        self.classes = list(self.class_to_index.keys())\n",
    "        return self\n",
    "\n",
    "    def encode(self, y):\n",
    "        encoded = np.zeros((len(y)), dtype=int)\n",
    "        for i, item in enumerate(y):\n",
    "            encoded[i] = self.class_to_index[item]\n",
    "        return encoded\n",
    "\n",
    "    def decode(self, y):\n",
    "        classes = []\n",
    "        for i, item in enumerate(y):\n",
    "            classes.append(self.index_to_class[item])\n",
    "        return classes\n",
    "\n",
    "    def save(self, fp):\n",
    "        # Make a brand-new dict with plain Python ints as keys:\n",
    "        serializable = {int(k): v for k, v in self.class_to_index.items()}\n",
    "\n",
    "        with open(fp, \"w\") as out_f:\n",
    "            json.dump({\"class_to_index\": serializable}, out_f, indent=4, sort_keys=False)\n",
    "\n",
    "\n",
    "    @classmethod\n",
    "    def load(cls, fp):\n",
    "        with open(fp, \"r\") as fp:\n",
    "            kwargs = json.load(fp=fp)\n",
    "        return cls(**kwargs)\n"
   ]
  },
  {
   "cell_type": "code",
   "execution_count": 177,
   "metadata": {},
   "outputs": [
    {
     "data": {
      "text/plain": [
       "{1: 0, 2: 1, 3: 2, 4: 3}"
      ]
     },
     "execution_count": 177,
     "metadata": {},
     "output_type": "execute_result"
    }
   ],
   "source": [
    "#Encode\n",
    "label_encoder = LabelEncoder()\n",
    "label_encoder.fit(y_train)\n",
    "label_encoder.save(\"label_encoder.json\")\n",
    "NUM_CLASSES = len(label_encoder)\n",
    "label_encoder.class_to_index"
   ]
  },
  {
   "cell_type": "code",
   "execution_count": 178,
   "metadata": {},
   "outputs": [
    {
     "name": "stdout",
     "output_type": "stream",
     "text": [
      "y_train[0]: 3\n",
      "y_train[0]: 0\n"
     ]
    }
   ],
   "source": [
    "# Convert labels to tokens\n",
    "print (f\"y_train[0]: {y_train[0]}\")\n",
    "y_train = label_encoder.encode(y_train)\n",
    "y_val = label_encoder.encode(y_val)\n",
    "y_test = label_encoder.encode(y_test)\n",
    "print (f\"y_train[0]: {y_train[0]}\")"
   ]
  },
  {
   "cell_type": "code",
   "execution_count": 179,
   "metadata": {},
   "outputs": [
    {
     "name": "stdout",
     "output_type": "stream",
     "text": [
      "counts:[22330 22330 22330 22330]\n",
      "weights:{0: 4.478280340349306e-05, 1: 4.478280340349306e-05, 2: 4.478280340349306e-05, 3: 4.478280340349306e-05}\n"
     ]
    }
   ],
   "source": [
    "#class weights\n",
    "counts=np.bincount(y_train)\n",
    "class_weights={i: 1.0/count for i, count in enumerate(counts)}\n",
    "print(f\"counts:{counts}\\nweights:{class_weights}\")"
   ]
  },
  {
   "cell_type": "markdown",
   "metadata": {},
   "source": [
    "#### Tokenizer\n",
    "- Now to convert our text into tokens."
   ]
  },
  {
   "cell_type": "code",
   "execution_count": 180,
   "metadata": {},
   "outputs": [],
   "source": [
    "import json\n",
    "from collections import Counter\n",
    "from more_itertools import take"
   ]
  },
  {
   "cell_type": "code",
   "execution_count": 181,
   "metadata": {},
   "outputs": [],
   "source": [
    "class Tokenizer(object):\n",
    "    def __init__(self, char_level, num_tokens=None,\n",
    "                 pad_token=\"<PAD>\", oov_token=\"<UNK>\",\n",
    "                 token_to_index=None):\n",
    "        self.char_level = char_level\n",
    "        self.separator = \"\" if self.char_level else \" \"\n",
    "        if num_tokens: num_tokens -= 2 # pad + unk tokens\n",
    "        self.num_tokens = num_tokens\n",
    "        self.pad_token = pad_token\n",
    "        self.oov_token = oov_token\n",
    "        if not token_to_index:\n",
    "            token_to_index = {pad_token: 0, oov_token: 1}\n",
    "        self.token_to_index = token_to_index\n",
    "        self.index_to_token = {v: k for k, v in self.token_to_index.items()}\n",
    "\n",
    "    def __len__(self):\n",
    "        return len(self.token_to_index)\n",
    "\n",
    "    def __str__(self):\n",
    "        return f\"<Tokenizer(num_tokens={len(self)})>\"\n",
    "\n",
    "    def fit_on_texts(self, texts):\n",
    "        if not self.char_level:\n",
    "            texts = [text.split(\" \") for text in texts]\n",
    "        all_tokens = [token for text in texts for token in text]\n",
    "        counts = Counter(all_tokens).most_common(self.num_tokens)\n",
    "        self.min_token_freq = counts[-1][1]\n",
    "        for token, count in counts:\n",
    "            index = len(self)\n",
    "            self.token_to_index[token] = index\n",
    "            self.index_to_token[index] = token\n",
    "        return self\n",
    "\n",
    "    def texts_to_sequences(self, texts):\n",
    "        sequences = []\n",
    "        for text in texts:\n",
    "            if not self.char_level:\n",
    "                text = text.split(\" \")\n",
    "            sequence = []\n",
    "            for token in text:\n",
    "                sequence.append(self.token_to_index.get(\n",
    "                    token, self.token_to_index[self.oov_token]))\n",
    "            sequences.append(np.asarray(sequence))\n",
    "        return sequences\n",
    "\n",
    "    def sequences_to_texts(self, sequences):\n",
    "        texts = []\n",
    "        for sequence in sequences:\n",
    "            text = []\n",
    "            for index in sequence:\n",
    "                text.append(self.index_to_token.get(index, self.oov_token))\n",
    "            texts.append(self.separator.join([token for token in text]))\n",
    "        return texts\n",
    "\n",
    "    def save(self, fp):\n",
    "        with open(fp, \"w\") as fp:\n",
    "            contents = {\n",
    "                \"char_level\": self.char_level,\n",
    "                \"oov_token\": self.oov_token,\n",
    "                \"token_to_index\": self.token_to_index\n",
    "            }\n",
    "            json.dump(contents, fp, indent=4, sort_keys=False)\n",
    "\n",
    "    @classmethod\n",
    "    def load(cls, fp):\n",
    "        with open(fp, \"r\") as fp:\n",
    "            kwargs = json.load(fp=fp)\n",
    "        return cls(**kwargs)"
   ]
  },
  {
   "cell_type": "markdown",
   "metadata": {},
   "source": [
    "#### Warning:\n",
    "- It's importand to only fit using our train data split because during inference, our model will not always know every token so it's important to replicate that scenario with our validation and test splits as well."
   ]
  },
  {
   "cell_type": "code",
   "execution_count": 182,
   "metadata": {},
   "outputs": [
    {
     "name": "stdout",
     "output_type": "stream",
     "text": [
      "5000\n",
      "<Tokenizer(num_tokens=5000)>\n"
     ]
    }
   ],
   "source": [
    "#Tokenize\n",
    "tokenizer=Tokenizer(char_level=False,num_tokens=5000)\n",
    "tokenizer.fit_on_texts(X_train)\n",
    "tokenizer.save(\"tokenizer.json\")\n",
    "print(len(tokenizer))\n",
    "VOCAB_SIZE=len(tokenizer)\n",
    "print(tokenizer)"
   ]
  },
  {
   "cell_type": "code",
   "execution_count": 183,
   "metadata": {},
   "outputs": [
    {
     "name": "stdout",
     "output_type": "stream",
     "text": [
      "[('<PAD>', 0), ('<UNK>', 1), ('39', 2), ('b', 3), ('gt', 4)]\n",
      "least freq token's freq: 15\n"
     ]
    }
   ],
   "source": [
    "#sample of tokens\n",
    "print(take(5,tokenizer.token_to_index.items()))\n",
    "print(f\"least freq token's freq: {tokenizer.min_token_freq}\")"
   ]
  },
  {
   "cell_type": "code",
   "execution_count": 184,
   "metadata": {},
   "outputs": [
    {
     "name": "stdout",
     "output_type": "stream",
     "text": [
      "89320\n",
      "X_train[0:5]: [array([ 454, 4192,  256,    1,  543,   22]), array([2596, 1106,  822,  232,  855,  634]), array([ 455, 1027, 2160, 2483,  911,   90, 1459]), array([1674, 1615,    2, 2860,   89, 1675,  505,    2, 2861,    1,    2,\n",
      "          5,    3,    4,    5,    3,    4]), array([   1,  438,  383,  166, 3760,   15, 2484])]\n",
      "Text to indices:\n",
      "  (preprocessed) → putin recent attacks <UNK> hurt bush\n",
      "  (tokenized) → [ 454 4192  256    1  543   22]\n"
     ]
    }
   ],
   "source": [
    "# Convert texts to sequences of indices\n",
    "X_train = tokenizer.texts_to_sequences(X_train)\n",
    "print(len(X_train))\n",
    "X_val = tokenizer.texts_to_sequences(X_val)\n",
    "X_test = tokenizer.texts_to_sequences(X_test)\n",
    "print(f\"X_train[0:5]: {X_train[0:5]}\")\n",
    "preprocessed_text = tokenizer.sequences_to_texts([X_train[0]])[0]\n",
    "print (\"Text to indices:\\n\"\n",
    "    f\"  (preprocessed) → {preprocessed_text}\\n\"\n",
    "    f\"  (tokenized) → {X_train[0]}\")"
   ]
  },
  {
   "cell_type": "markdown",
   "metadata": {},
   "source": [
    "#### Padding\n",
    "- Since this is a sequence model, we have to pad our sequences to the same length."
   ]
  },
  {
   "cell_type": "code",
   "execution_count": 185,
   "metadata": {},
   "outputs": [],
   "source": [
    "def pad_sequences(sequences,max_seq_len=0):\n",
    "  \"\"\"Pad sequences to max length in sequence\"\"\"\n",
    "  max_seq_len=max(max_seq_len,max(len(sequence) for sequence in sequences))\n",
    "  padded_sequences=np.zeros((len(sequences),max_seq_len))\n",
    "  for i,seq in enumerate(sequences):\n",
    "    padded_sequences[i][:len(seq)]=seq\n",
    "  return padded_sequences"
   ]
  },
  {
   "cell_type": "code",
   "execution_count": 186,
   "metadata": {},
   "outputs": [
    {
     "name": "stdout",
     "output_type": "stream",
     "text": [
      "(3, 7)\n",
      "[[4.540e+02 4.192e+03 2.560e+02 1.000e+00 5.430e+02 2.200e+01 0.000e+00]\n",
      " [2.596e+03 1.106e+03 8.220e+02 2.320e+02 8.550e+02 6.340e+02 0.000e+00]\n",
      " [4.550e+02 1.027e+03 2.160e+03 2.483e+03 9.110e+02 9.000e+01 1.459e+03]]\n"
     ]
    }
   ],
   "source": [
    "#2D sequences\n",
    "padded=pad_sequences(X_train[0:3])\n",
    "print(padded.shape)\n",
    "print(padded)"
   ]
  },
  {
   "cell_type": "markdown",
   "metadata": {},
   "source": [
    "#### Datasets/Dataloaders\n",
    "\n",
    "- Need to create datasets/dataloaders to be able to efficiently create batches with our batch splits."
   ]
  },
  {
   "cell_type": "code",
   "execution_count": 187,
   "metadata": {},
   "outputs": [],
   "source": [
    "import torch\n",
    "class Dataset(torch.utils.data.Dataset):\n",
    "    def __init__(self, X, y):\n",
    "        self.X = X\n",
    "        self.y = y\n",
    "\n",
    "    def __len__(self):\n",
    "        return len(self.y)\n",
    "\n",
    "    def __str__(self):\n",
    "        return f\"<Dataset(N={len(self)})>\"\n",
    "\n",
    "    def __getitem__(self, index):\n",
    "        X = self.X[index]\n",
    "        y = self.y[index]\n",
    "        return [X, len(X), y]\n",
    "\n",
    "    def collate_fn(self, batch):\n",
    "        \"\"\"Processing on a batch.\"\"\"\n",
    "        # Get inputs\n",
    "        batch = np.array(batch,dtype=object)\n",
    "        X = batch[:, 0]\n",
    "        seq_lens = batch[:, 1]\n",
    "        y = batch[:, 2]\n",
    "\n",
    "        # Pad inputs\n",
    "        X = pad_sequences(sequences=X)\n",
    "\n",
    "        # Cast to same data type for processing\n",
    "        X = torch.LongTensor(X.astype(np.int32))\n",
    "        seq_lens = torch.LongTensor(seq_lens.astype(np.int32))\n",
    "        y = torch.LongTensor(y.astype(np.int32))\n",
    "\n",
    "        return X, seq_lens, y\n",
    "\n",
    "    def create_dataloader(self, batch_size, shuffle=False, drop_last=False):\n",
    "        dl=torch.utils.data.DataLoader(\n",
    "            dataset=self, batch_size=batch_size, collate_fn=self.collate_fn,\n",
    "            shuffle=shuffle, drop_last=drop_last, pin_memory=True)\n",
    "        return dl\n"
   ]
  },
  {
   "cell_type": "markdown",
   "metadata": {},
   "source": [
    "- We create datasets/dataloaders to be able to efficiently create batches with our batch splits.\n",
    "- For huge datasets, this process is done so that we avoid the OOM error and to only keep the data in memory that we need for the current batch."
   ]
  },
  {
   "cell_type": "code",
   "execution_count": 188,
   "metadata": {},
   "outputs": [
    {
     "name": "stdout",
     "output_type": "stream",
     "text": [
      "Datasets:\n",
      "Train: <Dataset(N=89320)>\n",
      "Val: <Dataset(N=19140)>\n",
      "Test: <Dataset(N=19140)>\n",
      "Samples:\n",
      "Train: [ 454 4192  256    1  543   22]\n",
      "Sequence lengths:6\n",
      "y: 0\n"
     ]
    }
   ],
   "source": [
    "#create datasets\n",
    "train_dataset=Dataset(X_train,y_train)\n",
    "val_dataset=Dataset(X_val,y_val)\n",
    "test_dataset=Dataset(X_test,y_test)\n",
    "#create dataloaders\n",
    "print(f\"Datasets:\\nTrain: {train_dataset.__str__()}\\nVal: {val_dataset.__str__()}\\nTest: {test_dataset.__str__()}\")\n",
    "print(f\"Samples:\\nTrain: {train_dataset[0][0]}\")\n",
    "print(f\"Sequence lengths:{train_dataset[0][1]}\")\n",
    "print(f\"y: {train_dataset[0][2]}\")"
   ]
  },
  {
   "cell_type": "code",
   "execution_count": 189,
   "metadata": {},
   "outputs": [
    {
     "name": "stdout",
     "output_type": "stream",
     "text": [
      "Sample batch:\n",
      "  X: [32, 17]\n",
      "  seq_lens: [32]\n",
      "  y: [32]\n",
      "Sample point:\n",
      "  X: tensor([ 454, 4192,  256,    1,  543,   22,    0,    0,    0,    0,    0,    0,\n",
      "           0,    0,    0,    0,    0])\n",
      " seq_len: 6\n",
      "  y: 0\n"
     ]
    }
   ],
   "source": [
    "# Create dataloaders\n",
    "batch_size = 32\n",
    "train_dataloader = train_dataset.create_dataloader(\n",
    "    batch_size=batch_size)\n",
    "val_dataloader = val_dataset.create_dataloader(\n",
    "    batch_size=batch_size)\n",
    "test_dataloader = test_dataset.create_dataloader(\n",
    "    batch_size=batch_size)\n",
    "batch_X, batch_seq_lens, batch_y = next(iter(train_dataloader))\n",
    "print (\"Sample batch:\\n\"\n",
    "    f\"  X: {list(batch_X.size())}\\n\"\n",
    "    f\"  seq_lens: {list(batch_seq_lens.size())}\\n\"\n",
    "    f\"  y: {list(batch_y.size())}\\n\"\n",
    "    \"Sample point:\\n\"\n",
    "    f\"  X: {batch_X[0]}\\n\"\n",
    "    f\" seq_len: {batch_seq_lens[0]}\\n\"\n",
    "    f\"  y: {batch_y[0]}\")"
   ]
  },
  {
   "cell_type": "code",
   "execution_count": 190,
   "metadata": {},
   "outputs": [],
   "source": [
    "class Trainer(object):\n",
    "    def __init__(self, model, device, loss_fn=None, optimizer=None, scheduler=None):\n",
    "\n",
    "        # Set params\n",
    "        self.model = model\n",
    "        self.device = device\n",
    "        self.loss_fn = loss_fn\n",
    "        self.optimizer = optimizer\n",
    "        self.scheduler = scheduler\n",
    "\n",
    "    def train_step(self, dataloader):\n",
    "        \"\"\"Train step.\"\"\"\n",
    "        # Set model to train mode\n",
    "        self.model.train()\n",
    "        loss = 0.0\n",
    "\n",
    "        # Iterate over train batches\n",
    "        for i, batch in enumerate(dataloader):\n",
    "\n",
    "            # Step\n",
    "            batch = [item.to(self.device) for item in batch]  # Set device\n",
    "            inputs, targets = batch[:-1], batch[-1]\n",
    "            self.optimizer.zero_grad()  # Reset gradients\n",
    "            z = self.model(inputs)  # Forward pass\n",
    "            J = self.loss_fn(z, targets)  # Define loss\n",
    "            J.backward()  # Backward pass\n",
    "            self.optimizer.step()  # Update weights\n",
    "\n",
    "            # Cumulative Metrics\n",
    "            loss += (J.detach().item() - loss) / (i + 1)\n",
    "\n",
    "        return loss\n",
    "\n",
    "    def eval_step(self, dataloader):\n",
    "        \"\"\"Validation or test step.\"\"\"\n",
    "        # Set model to eval mode\n",
    "        self.model.eval()\n",
    "        loss = 0.0\n",
    "        y_trues, y_probs = [], []\n",
    "\n",
    "        # Iterate over val batches\n",
    "        with torch.inference_mode():\n",
    "            for i, batch in enumerate(dataloader):\n",
    "\n",
    "                # Step\n",
    "                batch = [item.to(self.device) for item in batch]  # Set device\n",
    "                inputs, y_true = batch[:-1], batch[-1]\n",
    "                z = self.model(inputs)  # Forward pass\n",
    "                J = self.loss_fn(z, y_true).item()\n",
    "\n",
    "                # Cumulative Metrics\n",
    "                loss += (J - loss) / (i + 1)\n",
    "\n",
    "                # Store outputs\n",
    "                y_prob = torch.sigmoid(z).cpu().numpy()\n",
    "                y_probs.extend(y_prob)\n",
    "                y_trues.extend(y_true.cpu().numpy())\n",
    "\n",
    "        return loss, np.vstack(y_trues), np.vstack(y_probs)\n",
    "\n",
    "    def predict_step(self, dataloader):\n",
    "        \"\"\"Prediction step.\"\"\"\n",
    "        # Set model to eval mode\n",
    "        self.model.eval()\n",
    "        y_probs = []\n",
    "\n",
    "        # Iterate over val batches\n",
    "        with torch.inference_mode():\n",
    "            for i, batch in enumerate(dataloader):\n",
    "\n",
    "                # Forward pass w/ inputs\n",
    "                inputs, targets = batch[:-1], batch[-1]\n",
    "                y_prob = F.softmax(self.model(inputs), dim=1)\n",
    "\n",
    "                # Store outputs\n",
    "                y_probs.extend(y_prob)\n",
    "\n",
    "        return np.vstack(y_probs)\n",
    "\n",
    "    def train(self, num_epochs, patience, train_dataloader, val_dataloader):\n",
    "        best_val_loss = np.inf\n",
    "        for epoch in range(num_epochs):\n",
    "            # Steps\n",
    "            train_loss = self.train_step(dataloader=train_dataloader)\n",
    "            val_loss, _, _ = self.eval_step(dataloader=val_dataloader)\n",
    "            self.scheduler.step(val_loss)\n",
    "\n",
    "            # Early stopping\n",
    "            if val_loss < best_val_loss:\n",
    "                best_val_loss = val_loss\n",
    "                best_model = self.model\n",
    "                _patience = patience  # reset _patience\n",
    "            else:\n",
    "                _patience -= 1\n",
    "            if not _patience:  # 0\n",
    "                print(\"Stopping early!\")\n",
    "                break\n",
    "\n",
    "            # Logging\n",
    "            print(\n",
    "                f\"Epoch: {epoch+1} | \"\n",
    "                f\"train_loss: {train_loss:.5f}, \"\n",
    "                f\"val_loss: {val_loss:.5f}, \"\n",
    "                f\"lr: {self.optimizer.param_groups[0]['lr']:.2E}, \"\n",
    "                f\"_patience: {_patience}\"\n",
    "            )\n",
    "        return best_model"
   ]
  },
  {
   "attachments": {
    "image.png": {
     "image/png": "[encoded data removed]"
    }
   },
   "cell_type": "markdown",
   "metadata": {},
   "source": [
    "#### Attention\n",
    "\n",
    "![image.png](attachment:image.png)\n"
   ]
  },
  {
   "cell_type": "markdown",
   "metadata": {},
   "source": [
    "We're going to create an RNN with an encoded representation for each word in our input resulting in a stacked vector that has dimensions N x M x H, where:\n",
    "- N = batch size\n",
    "- M = max sequence length of the batch\n",
    "- H = hidden size of the RNN"
   ]
  },
  {
   "cell_type": "code",
   "execution_count": 191,
   "metadata": {},
   "outputs": [],
   "source": [
    "BATCH_SIZE=32\n",
    "SEQ_LEN=8\n",
    "# this is the vector input dimension\n",
    "EMBEDDING_DIM=100\n",
    "# this is the hidden dimension between RNN cells\n",
    "RNN_HIDDEN_DIM=128"
   ]
  },
  {
   "cell_type": "code",
   "execution_count": 192,
   "metadata": {},
   "outputs": [
    {
     "name": "stdout",
     "output_type": "stream",
     "text": [
      "Out: torch.Size([32, 8, 128])\n",
      "h_n: torch.Size([1, 32, 128])\n"
     ]
    }
   ],
   "source": [
    "#embed\n",
    "x=torch.rand((BATCH_SIZE,SEQ_LEN,EMBEDDING_DIM))\n",
    "#encode\n",
    "rnn=nn.RNN(EMBEDDING_DIM,RNN_HIDDEN_DIM,batch_first=True)\n",
    "out,h_n=rnn(x) #h_n is the last hidden state\n",
    "print(f\"Out: {out.shape}\")\n",
    "print(f\"h_n: {h_n.shape}\")"
   ]
  },
  {
   "cell_type": "markdown",
   "metadata": {},
   "source": [
    "Here comes the attention mechanism."
   ]
  },
  {
   "cell_type": "code",
   "execution_count": 193,
   "metadata": {},
   "outputs": [
    {
     "name": "stdout",
     "output_type": "stream",
     "text": [
      "e:  torch.Size([32, 8, 1])\n",
      "attn_vals:  torch.Size([32, 8])\n",
      "attn_vals[0]:  tensor([0.1339, 0.1303, 0.1315, 0.1281, 0.1078, 0.1331, 0.1217, 0.1135],\n",
      "       grad_fn=<SelectBackward0>)\n",
      "sum(attn_vals[0]):  tensor(1.0000, grad_fn=<AddBackward0>)\n",
      "c:  torch.Size([32, 128])\n"
     ]
    }
   ],
   "source": [
    "#attend\n",
    "attn=nn.Linear(RNN_HIDDEN_DIM,1)\n",
    "e=attn(out) \n",
    "attn_vals=F.softmax(e.squeeze(2),dim=1)\n",
    "#does the attention mechanism to the outputs and makees the \n",
    "#dimensions the same, then makes them a vector again\n",
    "c=torch.bmm(attn_vals.unsqueeze(1),out).squeeze(1)\n",
    "\n",
    "print (\"e: \", e.shape)\n",
    "print (\"attn_vals: \", attn_vals.shape)\n",
    "print (\"attn_vals[0]: \", attn_vals[0])\n",
    "print (\"sum(attn_vals[0]): \", sum(attn_vals[0]))\n",
    "#result of the intermediary attention step to this RNN cell\n",
    "print (\"c: \", c.shape)"
   ]
  },
  {
   "cell_type": "code",
   "execution_count": 194,
   "metadata": {},
   "outputs": [
    {
     "name": "stdout",
     "output_type": "stream",
     "text": [
      "Output: torch.Size([32, 4])\n"
     ]
    }
   ],
   "source": [
    "#Predict\n",
    "fc1=nn.Linear(RNN_HIDDEN_DIM,NUM_CLASSES)\n",
    "output=F.softmax(fc1(c),dim=1)\n",
    "print(f\"Output: {output.shape}\")"
   ]
  },
  {
   "cell_type": "markdown",
   "metadata": {},
   "source": [
    "### Now to actually implement the RNN based model but with the addition of attention layer on top of the RNN's output."
   ]
  },
  {
   "cell_type": "code",
   "execution_count": 195,
   "metadata": {},
   "outputs": [],
   "source": [
    "RNN_HIDDEN_DIM=128\n",
    "DROPOUT_P=0.1\n",
    "HIDDEN_DIM=100"
   ]
  },
  {
   "cell_type": "code",
   "execution_count": 196,
   "metadata": {},
   "outputs": [],
   "source": [
    "import torch.nn as nn\n",
    "class RNN(nn.Module):\n",
    "    def __init__(self, embedding_dim, vocab_size, rnn_hidden_dim,\n",
    "                 hidden_dim, dropout_p, num_classes, padding_idx=0):\n",
    "        super(RNN, self).__init__()\n",
    "\n",
    "        # Initialize embeddings\n",
    "        self.embeddings = nn.Embedding(\n",
    "            embedding_dim=embedding_dim, num_embeddings=vocab_size,\n",
    "            padding_idx=padding_idx)\n",
    "\n",
    "        # RNN\n",
    "        self.rnn = nn.RNN(embedding_dim, rnn_hidden_dim, batch_first=True)\n",
    "\n",
    "        # Attention\n",
    "        self.attn = nn.Linear(rnn_hidden_dim, 1)\n",
    "\n",
    "        # FC weights\n",
    "        self.dropout = nn.Dropout(dropout_p)\n",
    "        self.fc1 = nn.Linear(rnn_hidden_dim, hidden_dim)\n",
    "        self.fc2 = nn.Linear(hidden_dim, num_classes)\n",
    "\n",
    "    def forward(self, inputs):\n",
    "        # Embed\n",
    "        x_in, seq_lens = inputs\n",
    "        x_in = self.embeddings(x_in)\n",
    "\n",
    "        # Encode\n",
    "        out, h_n = self.rnn(x_in)\n",
    "\n",
    "        # Attend\n",
    "        e = self.attn(out)\n",
    "        attn_vals = F.softmax(e.squeeze(2), dim=1)\n",
    "        c = torch.bmm(attn_vals.unsqueeze(1), out).squeeze(1)\n",
    "\n",
    "        # Predict\n",
    "        z = self.fc1(c)\n",
    "        z = self.dropout(z)\n",
    "        z = self.fc2(z)\n",
    "\n",
    "        return z"
   ]
  },
  {
   "cell_type": "code",
   "execution_count": 197,
   "metadata": {},
   "outputs": [
    {
     "name": "stdout",
     "output_type": "stream",
     "text": [
      "<bound method Module.named_parameters of RNN(\n",
      "  (embeddings): Embedding(5000, 100, padding_idx=0)\n",
      "  (rnn): RNN(100, 128, batch_first=True)\n",
      "  (attn): Linear(in_features=128, out_features=1, bias=True)\n",
      "  (dropout): Dropout(p=0.1, inplace=False)\n",
      "  (fc1): Linear(in_features=128, out_features=100, bias=True)\n",
      "  (fc2): Linear(in_features=100, out_features=4, bias=True)\n",
      ")>\n"
     ]
    }
   ],
   "source": [
    "#Simple RNN cell\n",
    "model = RNN(\n",
    "    embedding_dim=EMBEDDING_DIM, vocab_size=VOCAB_SIZE,\n",
    "    rnn_hidden_dim=RNN_HIDDEN_DIM, hidden_dim=HIDDEN_DIM,\n",
    "    dropout_p=DROPOUT_P, num_classes=NUM_CLASSES)\n",
    "model = model.to(device) # set device\n",
    "print (model.named_parameters)"
   ]
  },
  {
   "cell_type": "markdown",
   "metadata": {},
   "source": [
    "### Training"
   ]
  },
  {
   "cell_type": "code",
   "execution_count": 198,
   "metadata": {},
   "outputs": [],
   "source": [
    "from torch.optim import Adam"
   ]
  },
  {
   "cell_type": "code",
   "execution_count": 199,
   "metadata": {},
   "outputs": [],
   "source": [
    "NUM_LAYERS=1\n",
    "LEARNING_RATE=1e-4\n",
    "PATIENCE=10 #for early stopping\n",
    "NUM_EPOCHS=50"
   ]
  },
  {
   "cell_type": "code",
   "execution_count": 200,
   "metadata": {},
   "outputs": [],
   "source": [
    "#Define Loss\n",
    "#this is to define the weights for each of the inputs as averaged out per frequency\n",
    "model=model.to(device)\n",
    "class_weights_tensor=torch.Tensor(list(class_weights.values())).to(device)\n",
    "#if we want accurate results we have to weigh the different frequencies\n",
    "loss_fn=nn.CrossEntropyLoss(weight=class_weights_tensor)"
   ]
  },
  {
   "cell_type": "markdown",
   "metadata": {},
   "source": [
    "Difference between optimizer & scheduler:\n",
    "- Learning rate schedulers adjust the learning rate over the course of training.\n",
    "- Optimizers are used to update the weights of the model based on the gradients calculated during backpropagation."
   ]
  },
  {
   "cell_type": "code",
   "execution_count": 201,
   "metadata": {},
   "outputs": [],
   "source": [
    "#Define optimizer & scheduler\n",
    "optimizer=Adam(model.parameters(),lr=LEARNING_RATE)\n",
    "scheduler=torch.optim.lr_scheduler.ReduceLROnPlateau(optimizer,mode='min',factor=0.1,patience=3)"
   ]
  },
  {
   "cell_type": "code",
   "execution_count": 202,
   "metadata": {},
   "outputs": [],
   "source": [
    "#Trainer module\n",
    "trainer=Trainer(model=model,device=device,loss_fn=loss_fn,optimizer=optimizer,scheduler=scheduler)"
   ]
  },
  {
   "cell_type": "code",
   "execution_count": 203,
   "metadata": {},
   "outputs": [
    {
     "name": "stdout",
     "output_type": "stream",
     "text": [
      "Epoch: 1 | train_loss: 1.14471, val_loss: 0.98524, lr: 1.00E-04, _patience: 10\n",
      "Epoch: 2 | train_loss: 0.90445, val_loss: 0.82912, lr: 1.00E-04, _patience: 10\n",
      "Epoch: 3 | train_loss: 0.77765, val_loss: 0.74126, lr: 1.00E-04, _patience: 10\n",
      "Epoch: 4 | train_loss: 0.69379, val_loss: 0.68370, lr: 1.00E-04, _patience: 10\n",
      "Epoch: 5 | train_loss: 0.63185, val_loss: 0.64316, lr: 1.00E-04, _patience: 10\n",
      "Epoch: 6 | train_loss: 0.58519, val_loss: 0.61485, lr: 1.00E-04, _patience: 10\n",
      "Epoch: 7 | train_loss: 0.54906, val_loss: 0.59602, lr: 1.00E-04, _patience: 10\n",
      "Epoch: 8 | train_loss: 0.52012, val_loss: 0.57699, lr: 1.00E-04, _patience: 10\n",
      "Epoch: 9 | train_loss: 0.49609, val_loss: 0.56148, lr: 1.00E-04, _patience: 10\n",
      "Epoch: 10 | train_loss: 0.47578, val_loss: 0.55540, lr: 1.00E-04, _patience: 10\n",
      "Epoch: 11 | train_loss: 0.45750, val_loss: 0.54806, lr: 1.00E-04, _patience: 10\n",
      "Epoch: 12 | train_loss: 0.44150, val_loss: 0.54353, lr: 1.00E-04, _patience: 10\n",
      "Epoch: 13 | train_loss: 0.42779, val_loss: 0.53993, lr: 1.00E-04, _patience: 10\n",
      "Epoch: 14 | train_loss: 0.41428, val_loss: 0.53792, lr: 1.00E-04, _patience: 10\n",
      "Epoch: 15 | train_loss: 0.40243, val_loss: 0.54034, lr: 1.00E-04, _patience: 9\n",
      "Epoch: 16 | train_loss: 0.39118, val_loss: 0.53783, lr: 1.00E-04, _patience: 10\n",
      "Epoch: 17 | train_loss: 0.38093, val_loss: 0.53949, lr: 1.00E-04, _patience: 9\n",
      "Epoch: 18 | train_loss: 0.37081, val_loss: 0.54659, lr: 1.00E-04, _patience: 8\n",
      "Epoch: 19 | train_loss: 0.36113, val_loss: 0.54785, lr: 1.00E-04, _patience: 7\n",
      "Epoch: 20 | train_loss: 0.35139, val_loss: 0.55730, lr: 1.00E-05, _patience: 6\n",
      "Epoch: 21 | train_loss: 0.32965, val_loss: 0.51038, lr: 1.00E-05, _patience: 10\n",
      "Epoch: 22 | train_loss: 0.32248, val_loss: 0.51248, lr: 1.00E-05, _patience: 9\n",
      "Epoch: 23 | train_loss: 0.31992, val_loss: 0.51462, lr: 1.00E-05, _patience: 8\n",
      "Epoch: 24 | train_loss: 0.31851, val_loss: 0.51623, lr: 1.00E-05, _patience: 7\n",
      "Epoch: 25 | train_loss: 0.31720, val_loss: 0.51793, lr: 1.00E-06, _patience: 6\n",
      "Epoch: 26 | train_loss: 0.31344, val_loss: 0.51635, lr: 1.00E-06, _patience: 5\n",
      "Epoch: 27 | train_loss: 0.31258, val_loss: 0.51623, lr: 1.00E-06, _patience: 4\n",
      "Epoch: 28 | train_loss: 0.31217, val_loss: 0.51612, lr: 1.00E-06, _patience: 3\n",
      "Epoch: 29 | train_loss: 0.31196, val_loss: 0.51634, lr: 1.00E-07, _patience: 2\n",
      "Epoch: 30 | train_loss: 0.31133, val_loss: 0.51609, lr: 1.00E-07, _patience: 1\n",
      "Stopping early!\n"
     ]
    }
   ],
   "source": [
    "#Train\n",
    "best_model=trainer.train(NUM_EPOCHS,PATIENCE,train_dataloader,val_dataloader)"
   ]
  },
  {
   "cell_type": "markdown",
   "metadata": {},
   "source": []
  },
  {
   "cell_type": "code",
   "execution_count": 204,
   "metadata": {},
   "outputs": [],
   "source": [
    "#save model\n",
    "torch.save(best_model,'best_model.pt')\n",
    "#save model params\n",
    "torch.save(best_model.state_dict(),'best-model-parameters.pt')"
   ]
  },
  {
   "cell_type": "markdown",
   "metadata": {},
   "source": [
    "### Evaluation\n",
    "\n",
    "- Precision : $\\frac{TP}{TP + FP}$\n",
    "    - True Positives (TP) are the number of correct positive predictions over the total number of positive predictions.\n",
    "- Recall : $\\frac{TP}{TP + FN}$\n",
    "    - True Positives (TP) are the number of correct positive predictions over the total number of actual positive cases.\n",
    "- F1 Score : $2 \\cdot \\frac{Precision \\cdot Recall}{Precision + Recall}$\n",
    "        - The F1 score is the harmonic mean of precision and recall, providing a balance between the two metrics."
   ]
  },
  {
   "cell_type": "code",
   "execution_count": 205,
   "metadata": {},
   "outputs": [],
   "source": [
    "import json\n",
    "from sklearn.metrics import precision_recall_fscore_support"
   ]
  },
  {
   "cell_type": "code",
   "execution_count": 206,
   "metadata": {},
   "outputs": [],
   "source": [
    "def get_metrics(y_true,y_pred,classes):\n",
    "  \"\"\"Per-class performance metrics\"\"\"\n",
    "  performance={\"overall\": {}, \"class\":{}}\n",
    "  \n",
    "  #overall performance\n",
    "  metrics=precision_recall_fscore_support(y_true,y_pred,average=\"weighted\")\n",
    "  performance[\"overall\"][\"precision\"]=metrics[0]\n",
    "  performance[\"overall\"][\"recall\"]=metrics[1]\n",
    "  performance[\"overall\"][\"f1\"]=metrics[2]\n",
    "  performance[\"overall\"][\"num_samples\"]=np.float64(len(y_true))\n",
    "  \n",
    "  #per-class performance\n",
    "  metrics = precision_recall_fscore_support(y_true, y_pred, average=None)\n",
    "  for i in range(len(classes)):\n",
    "      performance[\"class\"][classes[i]] = {\n",
    "          \"precision\": metrics[0][i],\n",
    "          \"recall\": metrics[1][i],\n",
    "          \"f1\": metrics[2][i],\n",
    "          \"num_samples\": np.float64(metrics[3][i]),\n",
    "      }\n",
    "\n",
    "  return performance"
   ]
  },
  {
   "cell_type": "code",
   "execution_count": 207,
   "metadata": {},
   "outputs": [],
   "source": [
    "#get predictions\n",
    "test_loss, y_true, y_prob = trainer.eval_step(dataloader=test_dataloader)\n",
    "y_pred = np.argmax(y_prob, axis=1)"
   ]
  },
  {
   "cell_type": "code",
   "execution_count": 208,
   "metadata": {},
   "outputs": [
    {
     "name": "stdout",
     "output_type": "stream",
     "text": [
      "{\n",
      "  \"precision\": 0.8198765275213926,\n",
      "  \"recall\": 0.8199059561128527,\n",
      "  \"f1\": 0.8197207493717061,\n",
      "  \"num_samples\": 19140.0\n",
      "}\n"
     ]
    }
   ],
   "source": [
    "# Determine performance\n",
    "performance = get_metrics(\n",
    "    y_true=y_test, y_pred=y_pred, classes=label_encoder.classes)\n",
    "print (json.dumps(performance[\"overall\"], indent=2))"
   ]
  },
  {
   "cell_type": "markdown",
   "metadata": {},
   "source": [
    "### Inference"
   ]
  },
  {
   "cell_type": "code",
   "execution_count": 209,
   "metadata": {},
   "outputs": [],
   "source": [
    "def get_probability_distribution(y_prob,classes):\n",
    "    results = {}\n",
    "    for i, class_ in enumerate(classes):\n",
    "        results[class_] = np.float64(y_prob[i])\n",
    "    sorted_results = {k: v for k, v in sorted(\n",
    "        results.items(), key=lambda item: item[1], reverse=True)}\n",
    "    return sorted_results"
   ]
  },
  {
   "cell_type": "code",
   "execution_count": 221,
   "metadata": {},
   "outputs": [
    {
     "data": {
      "text/plain": [
       "RNN(\n",
       "  (embeddings): Embedding(5000, 100, padding_idx=0)\n",
       "  (rnn): RNN(100, 128, batch_first=True)\n",
       "  (attn): Linear(in_features=128, out_features=1, bias=True)\n",
       "  (dropout): Dropout(p=0.1, inplace=False)\n",
       "  (fc1): Linear(in_features=128, out_features=100, bias=True)\n",
       "  (fc2): Linear(in_features=100, out_features=4, bias=True)\n",
       ")"
      ]
     },
     "execution_count": 221,
     "metadata": {},
     "output_type": "execute_result"
    }
   ],
   "source": [
    "# Load artifacts\n",
    "from pathlib import Path\n",
    "device = set_device()\n",
    "label_encoder = LabelEncoder.load(fp= \"label_encoder.json\")\n",
    "tokenizer = Tokenizer.load(fp='tokenizer.json')\n",
    "model = RNN(\n",
    "    embedding_dim=EMBEDDING_DIM, vocab_size=VOCAB_SIZE,\n",
    "    rnn_hidden_dim=RNN_HIDDEN_DIM, hidden_dim=HIDDEN_DIM,\n",
    "    dropout_p=DROPOUT_P, num_classes=NUM_CLASSES)\n",
    "model.load_state_dict(torch.load(\"best-model-parameters.pt\"))\n",
    "model.to(device)"
   ]
  },
  {
   "cell_type": "code",
   "execution_count": 222,
   "metadata": {},
   "outputs": [],
   "source": [
    "trainer=Trainer(model=model,device=device)"
   ]
  },
  {
   "cell_type": "code",
   "execution_count": 223,
   "metadata": {},
   "outputs": [
    {
     "name": "stdout",
     "output_type": "stream",
     "text": [
      "['final tennis tournament starts next week']\n"
     ]
    }
   ],
   "source": [
    "#dataloader\n",
    "text = \"The final tennis tournament starts next week.\"\n",
    "X = tokenizer.texts_to_sequences([preprocess(text)])\n",
    "print (tokenizer.sequences_to_texts(X))\n",
    "y_filler = label_encoder.encode([label_encoder.classes[0]]*len(X))\n",
    "dataset = Dataset(X=X, y=y_filler)\n",
    "dataloader = dataset.create_dataloader(batch_size=batch_size)"
   ]
  },
  {
   "cell_type": "code",
   "execution_count": 224,
   "metadata": {},
   "outputs": [
    {
     "data": {
      "text/plain": [
       "['2']"
      ]
     },
     "execution_count": 224,
     "metadata": {},
     "output_type": "execute_result"
    }
   ],
   "source": [
    "#inference\n",
    "y_prob=trainer.predict_step(dataloader)\n",
    "y_pred=np.argmax(y_prob,axis=1)\n",
    "label_encoder.decode(y_pred)"
   ]
  },
  {
   "cell_type": "code",
   "execution_count": 225,
   "metadata": {},
   "outputs": [
    {
     "name": "stdout",
     "output_type": "stream",
     "text": [
      "{\n",
      "  \"2\": 0.9889817833900452,\n",
      "  \"1\": 0.006794495042413473,\n",
      "  \"4\": 0.003590561915189028,\n",
      "  \"3\": 0.0006332268822006881\n",
      "}\n"
     ]
    }
   ],
   "source": [
    "#class distributions\n",
    "prob_dist=get_probability_distribution(y_prob=y_prob[0],classes=label_encoder.classes)\n",
    "print(json.dumps(prob_dist,indent=2))"
   ]
  },
  {
   "cell_type": "markdown",
   "metadata": {},
   "source": [
    "### Interpretability\n",
    "\n",
    "- Let's use the attention values to see which encoded tokens ere most useful in predicting the appropriate label."
   ]
  },
  {
   "cell_type": "code",
   "execution_count": 226,
   "metadata": {},
   "outputs": [],
   "source": [
    "import collections\n",
    "import seaborn as sns"
   ]
  },
  {
   "cell_type": "code",
   "execution_count": 227,
   "metadata": {},
   "outputs": [],
   "source": [
    "class InterpretAttn(nn.Module):\n",
    "    def __init__(self, embedding_dim, vocab_size, rnn_hidden_dim,\n",
    "                 hidden_dim, dropout_p, num_classes, padding_idx=0):\n",
    "        super(InterpretAttn, self).__init__()\n",
    "\n",
    "        # Initialize embeddings\n",
    "        self.embeddings = nn.Embedding(\n",
    "            embedding_dim=embedding_dim, num_embeddings=vocab_size,\n",
    "            padding_idx=padding_idx)\n",
    "\n",
    "        # RNN\n",
    "        self.rnn = nn.RNN(embedding_dim, rnn_hidden_dim, batch_first=True)\n",
    "\n",
    "        # Attention\n",
    "        self.attn = nn.Linear(rnn_hidden_dim, 1)\n",
    "\n",
    "        # FC weights\n",
    "        self.dropout = nn.Dropout(dropout_p)\n",
    "        self.fc1 = nn.Linear(rnn_hidden_dim, hidden_dim)\n",
    "        self.fc2 = nn.Linear(hidden_dim, num_classes)\n",
    "\n",
    "    def forward(self, inputs):\n",
    "        # Embed\n",
    "        x_in, seq_lens = inputs\n",
    "        x_in = self.embeddings(x_in)\n",
    "\n",
    "        # Encode\n",
    "        out, h_n = self.rnn(x_in)\n",
    "\n",
    "        # Attend\n",
    "        e = self.attn(out)  # could add optional activation function (ex. tanh)\n",
    "        attn_vals = F.softmax(e.squeeze(2), dim=1)\n",
    "\n",
    "        return attn_vals"
   ]
  },
  {
   "cell_type": "code",
   "execution_count": 229,
   "metadata": {},
   "outputs": [
    {
     "data": {
      "text/plain": [
       "InterpretAttn(\n",
       "  (embeddings): Embedding(5000, 100, padding_idx=0)\n",
       "  (rnn): RNN(100, 128, batch_first=True)\n",
       "  (attn): Linear(in_features=128, out_features=1, bias=True)\n",
       "  (dropout): Dropout(p=0.1, inplace=False)\n",
       "  (fc1): Linear(in_features=128, out_features=100, bias=True)\n",
       "  (fc2): Linear(in_features=100, out_features=4, bias=True)\n",
       ")"
      ]
     },
     "execution_count": 229,
     "metadata": {},
     "output_type": "execute_result"
    }
   ],
   "source": [
    "# Initialize model\n",
    "interpretable_model = InterpretAttn(\n",
    "    embedding_dim=EMBEDDING_DIM, vocab_size=VOCAB_SIZE,\n",
    "    rnn_hidden_dim=RNN_HIDDEN_DIM, hidden_dim=HIDDEN_DIM,\n",
    "    dropout_p=DROPOUT_P, num_classes=NUM_CLASSES)\n",
    "interpretable_model.load_state_dict(torch.load(\"best-model-parameters.pt\"))\n",
    "interpretable_model.to(device)"
   ]
  },
  {
   "cell_type": "code",
   "execution_count": 230,
   "metadata": {},
   "outputs": [],
   "source": [
    "# Initialize trainer\n",
    "interpretable_trainer = Trainer(model=interpretable_model, device=device)"
   ]
  },
  {
   "cell_type": "code",
   "execution_count": 231,
   "metadata": {},
   "outputs": [
    {
     "name": "stdout",
     "output_type": "stream",
     "text": [
      "(1, 6)\n"
     ]
    }
   ],
   "source": [
    "# Get attention values\n",
    "attn_vals  = interpretable_trainer.predict_step(dataloader)\n",
    "print (attn_vals.shape) # (N, max_seq_len)"
   ]
  },
  {
   "cell_type": "code",
   "execution_count": 232,
   "metadata": {},
   "outputs": [
    {
     "data": {
      "text/plain": [
       "<Axes: >"
      ]
     },
     "execution_count": 232,
     "metadata": {},
     "output_type": "execute_result"
    },
    {
     "data": {
      "image/png": "[encoded data removed]",
      "text/plain": [
       "<Figure size 1000x100 with 2 Axes>"
      ]
     },
     "metadata": {},
     "output_type": "display_data"
    }
   ],
   "source": [
    "# Visualize a bi-gram filter's outputs\n",
    "sns.set(rc={\"figure.figsize\":(10, 1)})\n",
    "tokens = tokenizer.sequences_to_texts(X)[0].split(\" \")\n",
    "sns.heatmap(attn_vals, xticklabels=tokens)"
   ]
  }
 ],
 "metadata": {
  "kernelspec": {
   "display_name": "venv",
   "language": "python",
   "name": "python3"
  },
  "language_info": {
   "codemirror_mode": {
    "name": "ipython",
    "version": 3
   },
   "file_extension": ".py",
   "mimetype": "text/x-python",
   "name": "python",
   "nbconvert_exporter": "python",
   "pygments_lexer": "ipython3",
   "version": "3.10.17"
  }
 },
 "nbformat": 4,
 "nbformat_minor": 2
}
