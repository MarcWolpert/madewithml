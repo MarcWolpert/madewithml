{
 "cells": [
  {
   "cell_type": "markdown",
   "id": "95e57167",
   "metadata": {},
   "source": [
    "# 3.1 - Training\n",
    "\n",
    "- We'll be using `Ray` to train our model on a cluster of different machines (however this will be simulated on a single machine)."
   ]
  },
  {
   "cell_type": "code",
   "execution_count": 1,
   "id": "f80eed29",
   "metadata": {},
   "outputs": [],
   "source": [
    "import openai\n",
    "from dotenv import load_dotenv; load_dotenv()\n",
    "import os\n",
    "\n",
    "OPENAI_API_KEY=os.getenv(\"OPENAI_API_KEY\")"
   ]
  },
  {
   "cell_type": "code",
   "execution_count": 2,
   "id": "2ee59aa9",
   "metadata": {},
   "outputs": [
    {
     "data": {
      "application/vnd.microsoft.datawrangler.viewer.v0+json": {
       "columns": [
        {
         "name": "index",
         "rawType": "int64",
         "type": "integer"
        },
        {
         "name": "id",
         "rawType": "int64",
         "type": "integer"
        },
        {
         "name": "created_on",
         "rawType": "object",
         "type": "string"
        },
        {
         "name": "title",
         "rawType": "object",
         "type": "string"
        },
        {
         "name": "description",
         "rawType": "object",
         "type": "string"
        },
        {
         "name": "tag",
         "rawType": "object",
         "type": "string"
        }
       ],
       "ref": "ec7e17d3-f9b7-4f3e-9366-317b10916fc0",
       "rows": [
        [
         "0",
         "6",
         "2020-02-20 06:43:18",
         "Comparison between YOLO and RCNN on real world videos",
         "Bringing theory to experiment is cool. We can easily train models in colab and find the results in minutes.",
         "computer-vision"
        ],
        [
         "1",
         "7",
         "2020-02-20 06:47:21",
         "Show, Infer & Tell: Contextual Inference for Creative Captioning",
         "The beauty of the work lies in the way it architects the fundamental idea that humans look at the overall image and then individual pieces of it.\n",
         "computer-vision"
        ],
        [
         "2",
         "9",
         "2020-02-24 16:24:45",
         "Awesome Graph Classification",
         "A collection of important graph embedding, classification and representation learning papers with implementations.",
         "other"
        ],
        [
         "3",
         "15",
         "2020-02-28 23:55:26",
         "Awesome Monte Carlo Tree Search",
         "A curated list of Monte Carlo tree search papers with implementations. ",
         "other"
        ],
        [
         "4",
         "25",
         "2020-03-07 23:04:31",
         "AttentionWalk",
         "A PyTorch Implementation of \"Watch Your Step: Learning Node Embeddings via Graph Attention\" (NeurIPS 2018). ",
         "other"
        ]
       ],
       "shape": {
        "columns": 5,
        "rows": 5
       }
      },
      "text/html": [
       "<div>\n",
       "<style scoped>\n",
       "    .dataframe tbody tr th:only-of-type {\n",
       "        vertical-align: middle;\n",
       "    }\n",
       "\n",
       "    .dataframe tbody tr th {\n",
       "        vertical-align: top;\n",
       "    }\n",
       "\n",
       "    .dataframe thead th {\n",
       "        text-align: right;\n",
       "    }\n",
       "</style>\n",
       "<table border=\"1\" class=\"dataframe\">\n",
       "  <thead>\n",
       "    <tr style=\"text-align: right;\">\n",
       "      <th></th>\n",
       "      <th>id</th>\n",
       "      <th>created_on</th>\n",
       "      <th>title</th>\n",
       "      <th>description</th>\n",
       "      <th>tag</th>\n",
       "    </tr>\n",
       "  </thead>\n",
       "  <tbody>\n",
       "    <tr>\n",
       "      <th>0</th>\n",
       "      <td>6</td>\n",
       "      <td>2020-02-20 06:43:18</td>\n",
       "      <td>Comparison between YOLO and RCNN on real world...</td>\n",
       "      <td>Bringing theory to experiment is cool. We can ...</td>\n",
       "      <td>computer-vision</td>\n",
       "    </tr>\n",
       "    <tr>\n",
       "      <th>1</th>\n",
       "      <td>7</td>\n",
       "      <td>2020-02-20 06:47:21</td>\n",
       "      <td>Show, Infer &amp; Tell: Contextual Inference for C...</td>\n",
       "      <td>The beauty of the work lies in the way it arch...</td>\n",
       "      <td>computer-vision</td>\n",
       "    </tr>\n",
       "    <tr>\n",
       "      <th>2</th>\n",
       "      <td>9</td>\n",
       "      <td>2020-02-24 16:24:45</td>\n",
       "      <td>Awesome Graph Classification</td>\n",
       "      <td>A collection of important graph embedding, cla...</td>\n",
       "      <td>other</td>\n",
       "    </tr>\n",
       "    <tr>\n",
       "      <th>3</th>\n",
       "      <td>15</td>\n",
       "      <td>2020-02-28 23:55:26</td>\n",
       "      <td>Awesome Monte Carlo Tree Search</td>\n",
       "      <td>A curated list of Monte Carlo tree search pape...</td>\n",
       "      <td>other</td>\n",
       "    </tr>\n",
       "    <tr>\n",
       "      <th>4</th>\n",
       "      <td>25</td>\n",
       "      <td>2020-03-07 23:04:31</td>\n",
       "      <td>AttentionWalk</td>\n",
       "      <td>A PyTorch Implementation of \"Watch Your Step: ...</td>\n",
       "      <td>other</td>\n",
       "    </tr>\n",
       "  </tbody>\n",
       "</table>\n",
       "</div>"
      ],
      "text/plain": [
       "   id           created_on                                              title   \n",
       "0   6  2020-02-20 06:43:18  Comparison between YOLO and RCNN on real world...  \\\n",
       "1   7  2020-02-20 06:47:21  Show, Infer & Tell: Contextual Inference for C...   \n",
       "2   9  2020-02-24 16:24:45                       Awesome Graph Classification   \n",
       "3  15  2020-02-28 23:55:26                    Awesome Monte Carlo Tree Search   \n",
       "4  25  2020-03-07 23:04:31                                      AttentionWalk   \n",
       "\n",
       "                                         description              tag  \n",
       "0  Bringing theory to experiment is cool. We can ...  computer-vision  \n",
       "1  The beauty of the work lies in the way it arch...  computer-vision  \n",
       "2  A collection of important graph embedding, cla...            other  \n",
       "3  A curated list of Monte Carlo tree search pape...            other  \n",
       "4  A PyTorch Implementation of \"Watch Your Step: ...            other  "
      ]
     },
     "execution_count": 2,
     "metadata": {},
     "output_type": "execute_result"
    }
   ],
   "source": [
    "import pandas as pd\n",
    "#load training data\n",
    "DATASET_LOC = \"https://raw.githubusercontent.com/GokuMohandas/Made-With-ML/main/datasets/dataset.csv\"\n",
    "train_df = pd.read_csv(DATASET_LOC)\n",
    "train_df.head()"
   ]
  },
  {
   "cell_type": "markdown",
   "id": "4655dfc8",
   "metadata": {},
   "source": []
  },
  {
   "cell_type": "code",
   "execution_count": 3,
   "id": "c06f3bde",
   "metadata": {},
   "outputs": [
    {
     "data": {
      "text/plain": [
       "['computer-vision', 'other', 'natural-language-processing', 'mlops']"
      ]
     },
     "execution_count": 3,
     "metadata": {},
     "output_type": "execute_result"
    }
   ],
   "source": [
    "#Unique labels\n",
    "tags=train_df['tag'].unique().tolist()\n",
    "tags"
   ]
  },
  {
   "cell_type": "code",
   "execution_count": 4,
   "id": "3e07836b",
   "metadata": {},
   "outputs": [],
   "source": [
    "#Load inference dataset\n",
    "HOLDOUT_LOC = \"https://raw.githubusercontent.com/GokuMohandas/Made-With-ML/main/datasets/holdout.csv\"\n",
    "test_df=pd.read_csv(HOLDOUT_LOC)"
   ]
  },
  {
   "cell_type": "markdown",
   "id": "d999501b",
   "metadata": {},
   "source": [
    "## Utilities\n",
    "\n",
    "- Define a few utility functions to make the openAI API calls easier to use, and to store our predictions."
   ]
  },
  {
   "cell_type": "code",
   "execution_count": 5,
   "id": "3ca86dfe",
   "metadata": {},
   "outputs": [],
   "source": [
    "import json\n",
    "from collections import Counter\n",
    "import matplotlib.pyplot as plt\n",
    "import seaborn as sns; sns.set_theme()\n",
    "from sklearn.metrics import precision_recall_fscore_support\n",
    "import time\n",
    "from tqdm import tqdm\n",
    "from openai import OpenAI"
   ]
  },
  {
   "cell_type": "code",
   "execution_count": 6,
   "id": "53c003f4",
   "metadata": {},
   "outputs": [],
   "source": [
    "#setup openAI api call\n",
    "client=OpenAI(api_key=OPENAI_API_KEY)\n",
    "response=None"
   ]
  },
  {
   "cell_type": "code",
   "execution_count": 7,
   "id": "fd4c88e9",
   "metadata": {},
   "outputs": [],
   "source": [
    "system_content='You only answer in rhymes'\n",
    "user_content='How are you' #user content (message)\n",
    "\n",
    "if (response == None):\n",
    "    response=client.responses.create(\n",
    "        model='gpt-3.5-turbo',\n",
    "        instructions=system_content,\n",
    "        input=user_content\n",
    "    )\n",
    "else:\n",
    "    print(response.output_text)"
   ]
  },
  {
   "cell_type": "code",
   "execution_count": 8,
   "id": "5c8247eb",
   "metadata": {},
   "outputs": [],
   "source": [
    "def get_tag(model:str,prompt_system: str,prompt_user:str):\n",
    "  try:\n",
    "    res=client.responses.create(\n",
    "        model=model,\n",
    "        instructions=prompt_system,\n",
    "        input=prompt_user\n",
    "    )\n",
    "    return res.to_dict()['output'][0]['content'][0]['text']\n",
    "  except (openai.APIError) as e:\n",
    "    print('API Error')\n",
    "    return None\n",
    "  except:\n",
    "    print(f\"Catch all exception occurred.\")\n",
    "    return None"
   ]
  },
  {
   "cell_type": "code",
   "execution_count": 9,
   "id": "cdb7e3d9",
   "metadata": {},
   "outputs": [
    {
     "name": "stdout",
     "output_type": "stream",
     "text": [
      "natural-language-processing\n"
     ]
    }
   ],
   "source": [
    "#get tag\n",
    "response=''\n",
    "model = \"gpt-4.1-nano-2025-04-14\"\n",
    "system_context:str = f\"\"\"\n",
    "    You are a NLP prediction service that predicts the label given an input's title and description.\n",
    "    You must choose between one of the following labels for each input: {tags}.\n",
    "    Only respond with the label name and nothing else.\n",
    "    \"\"\"\n",
    "user_context:str = \"Transfer learning with transformers: Using transformers for transfer learning on text classification tasks.\"\n",
    "tag:str = get_tag(model=model, prompt_system=system_context, prompt_user=user_context)\n",
    "print (tag)"
   ]
  },
  {
   "cell_type": "code",
   "execution_count": 10,
   "id": "753d316e",
   "metadata": {},
   "outputs": [
    {
     "data": {
      "text/plain": [
       "[{'title': 'Diffusion to Vector',\n",
       "  'description': 'Reference implementation of Diffusion2Vec (Complenet 2018) built on Gensim and NetworkX. '},\n",
       " {'title': 'Graph Wavelet Neural Network',\n",
       "  'description': 'A PyTorch implementation of \"Graph Wavelet Neural Network\" (ICLR 2019) '},\n",
       " {'title': 'Capsule Graph Neural Network',\n",
       "  'description': 'A PyTorch implementation of \"Capsule Graph Neural Network\" (ICLR 2019).'}]"
      ]
     },
     "execution_count": 10,
     "metadata": {},
     "output_type": "execute_result"
    }
   ],
   "source": [
    "samples=test_df[['title','description']].to_dict(orient='records')[:3]\n",
    "samples"
   ]
  },
  {
   "cell_type": "code",
   "execution_count": 11,
   "id": "f7a099a0",
   "metadata": {},
   "outputs": [],
   "source": [
    "import time\n",
    "def get_predictions(inputs,model,system_content):\n",
    "  y_pred=[]\n",
    "  for item in tqdm(inputs):\n",
    "    #Convert item dict to string\n",
    "    user_content=str(item)\n",
    "\n",
    "    #get prediciton\n",
    "    predicted_tag=get_tag(model=model,prompt_system=system_content,prompt_user=user_content)\n",
    "\n",
    "    #if error try again after a pause (repeat until success)\n",
    "    while predicted_tag is None:\n",
    "      time.sleep(1)\n",
    "      predicted_tag=get_tag(model=model,prompt_system=system_content,prompt_user=user_content)\n",
    "\n",
    "    #append prediction\n",
    "    y_pred.append(predicted_tag)\n",
    "  return y_pred"
   ]
  },
  {
   "cell_type": "code",
   "execution_count": 12,
   "id": "6cd58d02",
   "metadata": {},
   "outputs": [
    {
     "name": "stderr",
     "output_type": "stream",
     "text": [
      "100%|██████████| 3/3 [00:01<00:00,  2.03it/s]\n"
     ]
    },
    {
     "data": {
      "text/plain": [
       "['mlops', 'computer-vision', 'machine-vision']"
      ]
     },
     "execution_count": 12,
     "metadata": {},
     "output_type": "execute_result"
    }
   ],
   "source": [
    "#get predictions for a list of inputs\n",
    "y_pred=get_predictions(inputs=samples,model=model,system_content=system_context)\n",
    "y_pred"
   ]
  },
  {
   "cell_type": "code",
   "execution_count": 13,
   "id": "85781889",
   "metadata": {},
   "outputs": [
    {
     "data": {
      "text/plain": [
       "['mlops', 'computer-vision', 'other']"
      ]
     },
     "execution_count": 13,
     "metadata": {},
     "output_type": "execute_result"
    }
   ],
   "source": [
    "def clean_predictions(y_pred,tags,default='other'):\n",
    "  for i, item in enumerate(y_pred):\n",
    "    if item not in tags:\n",
    "      y_pred[i]=default\n",
    "    if item.startswith(\"'\") and item.endswith(\"'\"):\n",
    "      y_pred[i]=item[1:-1]\n",
    "  return y_pred\n",
    "#clean predictions\n",
    "y_pred=clean_predictions(y_pred=y_pred,tags=tags)\n",
    "y_pred"
   ]
  },
  {
   "cell_type": "code",
   "execution_count": 14,
   "id": "a6a31dcd",
   "metadata": {},
   "outputs": [],
   "source": [
    "def plot_tag_dist(y_true,y_pred):\n",
    "  #count number of true and predicted tags\n",
    "  true_tag_freq=dict(Counter(y_true))\n",
    "  pred_tag_freq=dict(Counter(y_pred))\n",
    "  #get truth from dfs\n",
    "  df_true=pd.DataFrame({\"tag\":list(true_tag_freq.keys()),\"freq\":list(true_tag_freq.values()), \"source\":\"truth\"})\n",
    "  df_pred=pd.DataFrame({\"tag\":list(pred_tag_freq.keys()),\"freq\":list(pred_tag_freq.values()), \"source\":\"pred\"})\n",
    "  df=pd.concat([df_true,df_pred],ignore_index=True)\n",
    "  #rotate x-axis labels\n",
    "  plt.xticks(rotation=90)\n",
    "  sns.barplot(x=\"tag\",y=\"freq\",data=df,hue=\"source\")\n",
    "  plt.show()"
   ]
  },
  {
   "cell_type": "code",
   "execution_count": 15,
   "id": "0c570730",
   "metadata": {},
   "outputs": [],
   "source": [
    "def evaluate(test_df,model,system_content,assistant_content='',tags=''):\n",
    "  #predictions\n",
    "  y_test=test_df.tag.tolist()\n",
    "  test_samples=test_df[['title','description']].to_dict(orient='records')\n",
    "  y_pred=get_predictions(inputs=test_samples,model=model,system_content=system_content)\n",
    "\n",
    "  #performance\n",
    "  metrics=precision_recall_fscore_support(y_test,y_pred,average='weighted')\n",
    "  performance={'precision':metrics[0],'recall':metrics[1],'f1':metrics[2]}\n",
    "  print(json.dumps(performance,indent=4))\n",
    "  plot_tag_dist(y_true=y_test,y_pred=y_pred)\n",
    "  return y_pred,performance\n"
   ]
  },
  {
   "cell_type": "markdown",
   "id": "e7a857ac",
   "metadata": {},
   "source": [
    "### Start benchmarking\n",
    "\n",
    "- We start with zero-shot predictions, which involves providing the model with the `system_content` only.\n",
    "    - This will show us the performance of the model if we don't provide any examples."
   ]
  },
  {
   "cell_type": "code",
   "execution_count": 16,
   "id": "849ded31",
   "metadata": {},
   "outputs": [],
   "source": [
    "y_pred={'zero_shot':{},\"few_shot\":{}}\n",
    "performance={'zero_shot':{},\"few_shot\":{}}"
   ]
  },
  {
   "cell_type": "code",
   "execution_count": 17,
   "id": "d21f0147",
   "metadata": {},
   "outputs": [],
   "source": [
    "system_content=f\"\"\"\n",
    "You are a NLP prediction service that predicts the label given an input's title and description.\n",
    "You must choose between one of the following labels for each input: {tags}.\n",
    "Only respond with the label name and nothing else.\n",
    "\"\"\""
   ]
  },
  {
   "cell_type": "code",
   "execution_count": 18,
   "id": "90fb0569",
   "metadata": {},
   "outputs": [
    {
     "name": "stderr",
     "output_type": "stream",
     "text": [
      "100%|██████████| 191/191 [01:51<00:00,  1.71it/s]"
     ]
    },
    {
     "name": "stdout",
     "output_type": "stream",
     "text": [
      "{\n",
      "    \"precision\": 0.7401770910271409,\n",
      "    \"recall\": 0.7905759162303665,\n",
      "    \"f1\": 0.7525363836811878\n",
      "}\n"
     ]
    },
    {
     "name": "stderr",
     "output_type": "stream",
     "text": [
      "\n"
     ]
    },
    {
     "data": {
      "image/png": "[encoded data removed]",
      "text/plain": [
       "<Figure size 640x480 with 1 Axes>"
      ]
     },
     "metadata": {},
     "output_type": "display_data"
    }
   ],
   "source": [
    "#zero shot with gpt 4.1-nano-2025-04-14\n",
    "method='zero_shot'\n",
    "model='gpt-4.1-nano-2025-04-14'\n",
    "y_pred[method][model],performance[method][model]=evaluate(test_df=test_df,model=model,system_content=system_content,tags=tags)"
   ]
  },
  {
   "cell_type": "code",
   "execution_count": 19,
   "id": "01b1810e",
   "metadata": {},
   "outputs": [
    {
     "name": "stderr",
     "output_type": "stream",
     "text": [
      "100%|██████████| 191/191 [02:36<00:00,  1.22it/s]"
     ]
    },
    {
     "name": "stdout",
     "output_type": "stream",
     "text": [
      "{\n",
      "    \"precision\": 0.9015028524498804,\n",
      "    \"recall\": 0.8324607329842932,\n",
      "    \"f1\": 0.847166534816448\n",
      "}\n"
     ]
    },
    {
     "name": "stderr",
     "output_type": "stream",
     "text": [
      "\n"
     ]
    },
    {
     "data": {
      "image/png": "[encoded data removed]",
      "text/plain": [
       "<Figure size 640x480 with 1 Axes>"
      ]
     },
     "metadata": {},
     "output_type": "display_data"
    }
   ],
   "source": [
    "#zero shot with gpt 4o-mini\n",
    "method='zero_shot'\n",
    "model='gpt-4o-mini-2024-07-18'\n",
    "y_pred[method][model],performance[method][model]=evaluate(test_df=test_df,model=model,system_content=system_content,tags=tags)"
   ]
  },
  {
   "cell_type": "markdown",
   "id": "59baefe9",
   "metadata": {},
   "source": [
    "### Few Shot Learning\n",
    "\n",
    "- Next, we'll use few-shot learning to see if we can improve the performance of the model.\n",
    "    - We'll provide the model with a few examples of the correct label.\n",
    "    - This will help the model to learn the correct label.\n",
    "\n"
   ]
  },
  {
   "cell_type": "code",
   "execution_count": 20,
   "id": "307f3db4",
   "metadata": {},
   "outputs": [
    {
     "data": {
      "text/plain": [
       "\"{'title': 'Comparison between YOLO and RCNN on real world videos', 'description': 'Bringing theory to experiment is cool. We can easily train models in colab and find the results in minutes.', 'tag': 'computer-vision'}\\n{'title': 'Show, Infer & Tell: Contextual Inference for Creative Captioning', 'description': 'The beauty of the work lies in the way it architects the fundamental idea that humans look at the overall image and then individual pieces of it.\\\\n', 'tag': 'computer-vision'}\\n{'title': 'Awesome Graph Classification', 'description': 'A collection of important graph embedding, classification and representation learning papers with implementations.', 'tag': 'other'}\\n{'title': 'Awesome Monte Carlo Tree Search', 'description': 'A curated list of Monte Carlo tree search papers with implementations. ', 'tag': 'other'}\\n{'title': 'Rethinking Batch Normalization in Transformers', 'description': 'We found that NLP batch statistics exhibit large variance throughout training, which leads to poor BN performance.', 'tag': 'natural-language-processing'}\\n{'title': 'ELECTRA: Pre-training Text Encoders as Discriminators', 'description': 'PyTorch implementation of the electra model from the paper: ELECTRA - Pre-training Text Encoders as Discriminators Rather Than Generators', 'tag': 'natural-language-processing'}\\n{'title': 'Pytest Board', 'description': 'Continuous pytest runner with awesome visualization.', 'tag': 'mlops'}\\n{'title': 'Debugging Neural Networks with PyTorch and W&B', 'description': 'A closer look at debugging common issues when training neural networks.', 'tag': 'mlops'}\""
      ]
     },
     "execution_count": 20,
     "metadata": {},
     "output_type": "execute_result"
    }
   ],
   "source": [
    "#create additional context with few samples from each class\n",
    "num_samples=2\n",
    "additional_context=[]\n",
    "cols_to_keep=['title','description','tag']\n",
    "for tag in tags:\n",
    "  samples=train_df[cols_to_keep][train_df.tag==tag][:num_samples].to_dict(orient='records')\n",
    "  additional_context.extend(samples)\n",
    "\n",
    "#convert to string\n",
    "additional_context_str='\\n'.join([str(item) for item in additional_context])\n",
    "additional_context_str"
   ]
  },
  {
   "cell_type": "code",
   "execution_count": 21,
   "id": "3fce3337",
   "metadata": {},
   "outputs": [
    {
     "name": "stdout",
     "output_type": "stream",
     "text": [
      "\n",
      "Here are some examples of the correct label:\n",
      "{'title': 'Comparison between YOLO and RCNN on real world videos', 'description': 'Bringing theory to experiment is cool. We can easily train models in colab and find the results in minutes.', 'tag': 'computer-vision'}\n",
      "{'title': 'Show, Infer & Tell: Contextual Inference for Creative Captioning', 'description': 'The beauty of the work lies in the way it architects the fundamental idea that humans look at the overall image and then individual pieces of it.\\n', 'tag': 'computer-vision'}\n",
      "{'title': 'Awesome Graph Classification', 'description': 'A collection of important graph embedding, classification and representation learning papers with implementations.', 'tag': 'other'}\n",
      "{'title': 'Awesome Monte Carlo Tree Search', 'description': 'A curated list of Monte Carlo tree search papers with implementations. ', 'tag': 'other'}\n",
      "{'title': 'Rethinking Batch Normalization in Transformers', 'description': 'We found that NLP batch statistics exhibit large variance throughout training, which leads to poor BN performance.', 'tag': 'natural-language-processing'}\n",
      "{'title': 'ELECTRA: Pre-training Text Encoders as Discriminators', 'description': 'PyTorch implementation of the electra model from the paper: ELECTRA - Pre-training Text Encoders as Discriminators Rather Than Generators', 'tag': 'natural-language-processing'}\n",
      "{'title': 'Pytest Board', 'description': 'Continuous pytest runner with awesome visualization.', 'tag': 'mlops'}\n",
      "{'title': 'Debugging Neural Networks with PyTorch and W&B', 'description': 'A closer look at debugging common issues when training neural networks.', 'tag': 'mlops'}\n",
      "\n"
     ]
    }
   ],
   "source": [
    "assistant_content=f\"\"\"\n",
    "Here are some examples of the correct label:\n",
    "{additional_context_str}\n",
    "\"\"\"\n",
    "print(assistant_content)"
   ]
  },
  {
   "cell_type": "code",
   "execution_count": 22,
   "id": "be0ed2e1",
   "metadata": {},
   "outputs": [
    {
     "name": "stderr",
     "output_type": "stream",
     "text": [
      "100%|██████████| 191/191 [01:50<00:00,  1.73it/s]"
     ]
    },
    {
     "name": "stdout",
     "output_type": "stream",
     "text": [
      "{\n",
      "    \"precision\": 0.703363050577075,\n",
      "    \"recall\": 0.7801047120418848,\n",
      "    \"f1\": 0.7345706788636609\n",
      "}\n"
     ]
    },
    {
     "name": "stderr",
     "output_type": "stream",
     "text": [
      "\n"
     ]
    },
    {
     "data": {
      "image/png": "[encoded data removed]",
      "text/plain": [
       "<Figure size 640x480 with 1 Axes>"
      ]
     },
     "metadata": {},
     "output_type": "display_data"
    }
   ],
   "source": [
    "#few shot with gpt 4.1-nano-2025-04-14\n",
    "method='few_shot'\n",
    "model='gpt-4.1-nano-2025-04-14'\n",
    "y_pred[method][model], performance[method][model]=evaluate(test_df=test_df,model=model,system_content=system_content,assistant_content=assistant_content,tags=tags)"
   ]
  },
  {
   "cell_type": "code",
   "execution_count": 23,
   "id": "769145bf",
   "metadata": {},
   "outputs": [
    {
     "name": "stderr",
     "output_type": "stream",
     "text": [
      "100%|██████████| 191/191 [02:22<00:00,  1.34it/s]"
     ]
    },
    {
     "name": "stdout",
     "output_type": "stream",
     "text": [
      "{\n",
      "    \"precision\": 0.9041964144058385,\n",
      "    \"recall\": 0.8429319371727748,\n",
      "    \"f1\": 0.8547591208103745\n",
      "}\n"
     ]
    },
    {
     "name": "stderr",
     "output_type": "stream",
     "text": [
      "\n"
     ]
    },
    {
     "data": {
      "image/png": "[encoded data removed]",
      "text/plain": [
       "<Figure size 640x480 with 1 Axes>"
      ]
     },
     "metadata": {},
     "output_type": "display_data"
    }
   ],
   "source": [
    "#few shot with gpt 4o-mini\n",
    "method='few_shot'\n",
    "model='gpt-4o-mini-2024-07-18'\n",
    "y_pred[method][model], performance[method][model]=evaluate(test_df=test_df,model=model,system_content=system_content,assistant_content=assistant_content,tags=tags)\n"
   ]
  },
  {
   "cell_type": "markdown",
   "id": "cf0e2df2",
   "metadata": {},
   "source": [
    "Few shot learning performs better than zero-shot counter part, however there is a trade-off between reucing hallucinations and high precision/low recall and f1 score. When GPT 4o mini isn't confident it would rather predict 'other' than predict a label it's not sure about."
   ]
  },
  {
   "cell_type": "markdown",
   "id": "9adbd60e",
   "metadata": {},
   "source": [
    "#### OSS LLMS\n",
    "- While the current gold standard for LLMs is closed source, there are many OSS LLMS that are worth checking out.\n",
    "- The pros of OSS LLMS are:\n",
    "    - Data ownership meaning you dont have to send the info to the cloud\n",
    "    - fine tune to your use case\n",
    "    - optimization via quantization,pruning, etc"
   ]
  },
  {
   "cell_type": "markdown",
   "id": "352155d7",
   "metadata": {},
   "source": [
    "#### Results"
   ]
  },
  {
   "cell_type": "code",
   "execution_count": 24,
   "id": "947846bc",
   "metadata": {},
   "outputs": [
    {
     "name": "stdout",
     "output_type": "stream",
     "text": [
      "{\n",
      "    \"zero_shot\": {\n",
      "        \"gpt-4.1-nano-2025-04-14\": {\n",
      "            \"precision\": 0.7401770910271409,\n",
      "            \"recall\": 0.7905759162303665,\n",
      "            \"f1\": 0.7525363836811878\n",
      "        },\n",
      "        \"gpt-4o-mini-2024-07-18\": {\n",
      "            \"precision\": 0.9015028524498804,\n",
      "            \"recall\": 0.8324607329842932,\n",
      "            \"f1\": 0.847166534816448\n",
      "        }\n",
      "    },\n",
      "    \"few_shot\": {\n",
      "        \"gpt-4.1-nano-2025-04-14\": {\n",
      "            \"precision\": 0.703363050577075,\n",
      "            \"recall\": 0.7801047120418848,\n",
      "            \"f1\": 0.7345706788636609\n",
      "        },\n",
      "        \"gpt-4o-mini-2024-07-18\": {\n",
      "            \"precision\": 0.9041964144058385,\n",
      "            \"recall\": 0.8429319371727748,\n",
      "            \"f1\": 0.8547591208103745\n",
      "        }\n",
      "    }\n",
      "}\n"
     ]
    }
   ],
   "source": [
    "print(json.dumps(performance,indent=4))"
   ]
  },
  {
   "cell_type": "code",
   "execution_count": 25,
   "id": "598f4cb2",
   "metadata": {},
   "outputs": [],
   "source": [
    "# Transform data into a new dictionary with four keys\n",
    "by_model_and_context = {}\n",
    "for context_type, models_data in performance.items():\n",
    "    for model, metrics in models_data.items():\n",
    "        key = f\"{model}_{context_type}\"\n",
    "        by_model_and_context[key] = metrics"
   ]
  },
  {
   "cell_type": "code",
   "execution_count": null,
   "id": "3402469f",
   "metadata": {},
   "outputs": [
    {
     "name": "stdout",
     "output_type": "stream",
     "text": [
      "{'gpt-4.1-nano-2025-04-14_zero_shot': {'precision': 0.7401770910271409, 'recall': 0.7905759162303665, 'f1': 0.7525363836811878}, 'gpt-4o-mini-2024-07-18_zero_shot': {'precision': 0.9015028524498804, 'recall': 0.8324607329842932, 'f1': 0.847166534816448}, 'gpt-4.1-nano-2025-04-14_few_shot': {'precision': 0.703363050577075, 'recall': 0.7801047120418848, 'f1': 0.7345706788636609}, 'gpt-4o-mini-2024-07-18_few_shot': {'precision': 0.9041964144058385, 'recall': 0.8429319371727748, 'f1': 0.8547591208103745}}\n"
     ]
    },
    {
     "data": {
      "image/png": "[encoded data removed]",
      "text/plain": [
       "<Figure size 1000x500 with 1 Axes>"
      ]
     },
     "metadata": {},
     "output_type": "display_data"
    }
   ],
   "source": [
    "#extracting the model names and metric values\n",
    "models=list(by_model_and_context.keys())\n",
    "print(by_model_and_context)\n",
    "metrics = list(by_model_and_context[models[0]].keys())\n",
    "\n",
    "#plotting th bar chart wit metric scores on top of each bar\n",
    "fig,ax=plt.subplots(figsize=(10,5))\n",
    "width=0.2\n",
    "x=range(len(models))\n",
    "\n",
    "for i,metric in enumerate(metrics):\n",
    "  metric_values=[by_model_and_context[model][metric] for model in models\n",
    "  ]\n",
    "  ax.bar([pos+width*i for pos in x],metric_values,width=width,label=metric)\n",
    "  for pos,val in enumerate(metric_values):\n",
    "    ax.text(pos+width*i,val,f\"{val:.2f}\",ha='center',va='bottom')\n",
    "\n",
    "ax.set_xticks([pos+width for pos in x])\n",
    "ax.set_xticklabels(models,rotation=45, ha='center',fontsize=8)\n",
    "ax.set_ylabel('Performance')\n",
    "ax.set_title('GPT Benchmarking')\n",
    "ax.legend(loc='upper left',bbox_to_anchor=(1,1))\n",
    "plt.tight_layout()\n",
    "plt.show()"
   ]
  },
  {
   "cell_type": "markdown",
   "id": "6940d756",
   "metadata": {},
   "source": [
    "### 3.1.2 - Few Shot Learning with fine-tuned models"
   ]
  },
  {
   "cell_type": "code",
   "execution_count": 27,
   "id": "cf9640ae",
   "metadata": {},
   "outputs": [],
   "source": [
    "import os\n",
    "import random\n",
    "import torch\n",
    "from ray.data.preprocessor import Preprocessor\n",
    "import numpy as np"
   ]
  },
  {
   "cell_type": "markdown",
   "id": "4df861ce",
   "metadata": {},
   "source": [
    "#### Now fine-tuning"
   ]
  },
  {
   "cell_type": "code",
   "execution_count": 28,
   "id": "a8ab7298",
   "metadata": {},
   "outputs": [],
   "source": [
    "#we'll define a set of seeds and make it reproducible\n",
    "def set_seeds(seed=1337):\n",
    "    \"\"\"Set seeds for reproducibility.\"\"\"\n",
    "    np.random.seed(seed)\n",
    "    random.seed(seed)\n",
    "    torch.manual_seed(seed)\n",
    "    if torch.cuda.is_available():\n",
    "        torch.cuda.manual_seed(seed)\n",
    "        eval(\"setattr(torch.backends.cudnn, 'deterministic', True)\")\n",
    "        eval(\"setattr(torch.backends.cudnn, 'benchmark', False)\")\n",
    "    if torch.backends.mps.is_available():\n",
    "        torch.mps.manual_seed(seed)\n",
    "    os.environ[\"PYTHONHASHSEED\"] = str(seed)   "
   ]
  },
  {
   "cell_type": "markdown",
   "id": "b9a19c96",
   "metadata": {},
   "source": [
    "#### Load Data\n",
    "\n",
    "- loads data from source (CSV files) and loads it as a ray dataset"
   ]
  },
  {
   "cell_type": "code",
   "execution_count": 29,
   "id": "8db59618",
   "metadata": {},
   "outputs": [],
   "source": [
    "import ray\n",
    "def load_data(num_samples=None):\n",
    "  ds=ray.data.read_csv(DATASET_LOC)\n",
    "  ds=ds.random_shuffle(seed=1337)\n",
    "  ds=ray.data.from_item(ds.take(num_samples)) if num_samples else ds\n",
    "  return ds"
   ]
  },
  {
   "cell_type": "markdown",
   "id": "af912151",
   "metadata": {},
   "source": [
    "#### Note:\n",
    "- When working with extremely large datasets, it's good to limit the number of samples in our dataset so that we can execute our code quickly and iterate on bugs, etc. This is why we have a `num_samples` input arg in our `load_data` function\n",
    "\n",
    "#### Preprocessing Class\n",
    "- Just for convenience, we'll compose a preprocessor class to process the raw data into something trainable."
   ]
  },
  {
   "cell_type": "code",
   "execution_count": 30,
   "id": "b124a193",
   "metadata": {},
   "outputs": [],
   "source": [
    "class CustomPreprocessor(Preprocessor):\n",
    "  \"\"\"Custom preprocessor class.\"\"\"\n",
    "  def _fit(self,ds,uniq):\n",
    "    tags=ds.unique(column=uniq)\n",
    "    self.class_to_index={tag: i for i, tag in enumerate(tags)}\n",
    "    self.index_to_class={v:k for k,v in self.class_to_index.items()}\n",
    "    def _transform_pandas(self,batch): #could also do _transform_numpy\n",
    "      #this is an inherited function from Preprocessor\n",
    "      return preprocess(batch,class_to_index=self.class_to_index)"
   ]
  },
  {
   "cell_type": "markdown",
   "id": "59749b00",
   "metadata": {},
   "source": [
    "#### Model\n",
    "Now we're going to start defining our model architecture. We'll start by loading a pretrained LLM and then defining the components needed for fine-tuning it on our dataset. Our pretrained LLM here is a transformer-based model that has been pretrained on a large corpus of scientific text called [scibert](https://huggingface.co/allenai/scibert_scivocab_uncased)\n"
   ]
  },
  {
   "cell_type": "code",
   "execution_count": null,
   "id": "c85921a9",
   "metadata": {},
   "outputs": [],
   "source": []
  }
 ],
 "metadata": {
  "kernelspec": {
   "display_name": "venv",
   "language": "python",
   "name": "python3"
  },
  "language_info": {
   "codemirror_mode": {
    "name": "ipython",
    "version": 3
   },
   "file_extension": ".py",
   "mimetype": "text/x-python",
   "name": "python",
   "nbconvert_exporter": "python",
   "pygments_lexer": "ipython3",
   "version": "3.10.17"
  }
 },
 "nbformat": 4,
 "nbformat_minor": 5
}
